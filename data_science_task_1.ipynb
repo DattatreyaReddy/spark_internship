{
  "nbformat": 4,
  "nbformat_minor": 0,
  "metadata": {
    "colab": {
      "name": "spark_intern.ipynb",
      "provenance": [],
      "collapsed_sections": [],
      "authorship_tag": "ABX9TyPFNb9yspAZ0sW1bTM3w64X",
      "include_colab_link": true
    },
    "kernelspec": {
      "name": "python3",
      "display_name": "Python 3"
    }
  },
  "cells": [
    {
      "cell_type": "markdown",
      "metadata": {
        "id": "view-in-github",
        "colab_type": "text"
      },
      "source": [
        "<a href=\"https://colab.research.google.com/github/DattatreyaReddy/spark_internship/blob/main/data_science_task_1.ipynb\" target=\"_parent\"><img src=\"https://colab.research.google.com/assets/colab-badge.svg\" alt=\"Open In Colab\"/></a>"
      ]
    },
    {
      "cell_type": "markdown",
      "metadata": {
        "id": "U-4FgJmxCKXr"
      },
      "source": [
        "# **The Sparks Foundation**\n",
        "## *Graduate Rotational Internship Program*\n",
        "\n",
        "---\n",
        "\n",
        "### *Data Science & Business Analytics Internship*\n",
        "\n",
        "---\n",
        "\n",
        "**Intern Name : Panta DattatreyaReddy**\n",
        "\n",
        "\n"
      ]
    },
    {
      "cell_type": "markdown",
      "metadata": {
        "id": "0XBlZFffYXE6"
      },
      "source": [
        "### Prediction using Supervised ML (Level - Beginner)\n",
        "\n",
        "- Predict the percentage of an student based on the no. of study hours.\n",
        "- This is a simple linear regression task as it involves just 2 variables.\n",
        "- You can use R, Python, SAS Enterprise Miner or any other tool\n",
        "- Data can be found at http://bit.ly/w-data\n",
        "- What will be predicted score if a student studies for 9.25 hrs/ day?\n",
        "- Sample Solution : https://bit.ly/2HxiGGJ\n"
      ]
    },
    {
      "cell_type": "markdown",
      "metadata": {
        "id": "2NQsq8I2NUOh"
      },
      "source": [
        "### Solution"
      ]
    },
    {
      "cell_type": "markdown",
      "metadata": {
        "id": "UbkB3zW7Neyp"
      },
      "source": [
        "#### Import required modules"
      ]
    },
    {
      "cell_type": "code",
      "metadata": {
        "id": "sIWH-3RDBaaI"
      },
      "source": [
        "import torch\n",
        "import pandas as pd\n",
        "import matplotlib.pyplot as plt\n",
        "from torch.utils.data import TensorDataset, random_split\n",
        "import torch.nn as nn\n",
        "import torch.nn.functional as F\n",
        "%matplotlib inline"
      ],
      "execution_count": 1,
      "outputs": []
    },
    {
      "cell_type": "markdown",
      "metadata": {
        "id": "hK010DUrNt5u"
      },
      "source": [
        "#### Download and Explore the Data\n",
        "- Download the `csv` data file from give url\n",
        "- Convert the `.csv` file into a `pandas.DataFrame`"
      ]
    },
    {
      "cell_type": "code",
      "metadata": {
        "colab": {
          "base_uri": "https://localhost:8080/",
          "height": 229
        },
        "id": "vg5AVeuzCF4_",
        "outputId": "657796c5-8435-459e-c010-4dd1eaab33d7"
      },
      "source": [
        "url = 'http://bit.ly/w-data'\n",
        "stud_data = pd.read_csv(url)\n",
        "print ('Data Imported successfully')\n",
        "print('Size of the Dataset' , stud_data.shape)\n",
        "stud_data.head()"
      ],
      "execution_count": 2,
      "outputs": [
        {
          "output_type": "stream",
          "text": [
            "Data Imported successfully\n",
            "Size of the Dataset (25, 2)\n"
          ],
          "name": "stdout"
        },
        {
          "output_type": "execute_result",
          "data": {
            "text/html": [
              "<div>\n",
              "<style scoped>\n",
              "    .dataframe tbody tr th:only-of-type {\n",
              "        vertical-align: middle;\n",
              "    }\n",
              "\n",
              "    .dataframe tbody tr th {\n",
              "        vertical-align: top;\n",
              "    }\n",
              "\n",
              "    .dataframe thead th {\n",
              "        text-align: right;\n",
              "    }\n",
              "</style>\n",
              "<table border=\"1\" class=\"dataframe\">\n",
              "  <thead>\n",
              "    <tr style=\"text-align: right;\">\n",
              "      <th></th>\n",
              "      <th>Hours</th>\n",
              "      <th>Scores</th>\n",
              "    </tr>\n",
              "  </thead>\n",
              "  <tbody>\n",
              "    <tr>\n",
              "      <th>0</th>\n",
              "      <td>2.5</td>\n",
              "      <td>21</td>\n",
              "    </tr>\n",
              "    <tr>\n",
              "      <th>1</th>\n",
              "      <td>5.1</td>\n",
              "      <td>47</td>\n",
              "    </tr>\n",
              "    <tr>\n",
              "      <th>2</th>\n",
              "      <td>3.2</td>\n",
              "      <td>27</td>\n",
              "    </tr>\n",
              "    <tr>\n",
              "      <th>3</th>\n",
              "      <td>8.5</td>\n",
              "      <td>75</td>\n",
              "    </tr>\n",
              "    <tr>\n",
              "      <th>4</th>\n",
              "      <td>3.5</td>\n",
              "      <td>30</td>\n",
              "    </tr>\n",
              "  </tbody>\n",
              "</table>\n",
              "</div>"
            ],
            "text/plain": [
              "   Hours  Scores\n",
              "0    2.5      21\n",
              "1    5.1      47\n",
              "2    3.2      27\n",
              "3    8.5      75\n",
              "4    3.5      30"
            ]
          },
          "metadata": {
            "tags": []
          },
          "execution_count": 2
        }
      ]
    },
    {
      "cell_type": "markdown",
      "metadata": {
        "id": "3nLJlp1POTUH"
      },
      "source": [
        "- Plot a graph to understand the data better."
      ]
    },
    {
      "cell_type": "code",
      "metadata": {
        "colab": {
          "base_uri": "https://localhost:8080/",
          "height": 295
        },
        "id": "kXRCk99lZ-6J",
        "outputId": "e24a46fe-7e95-4297-a94f-78fc583cbd49"
      },
      "source": [
        "stud_data.plot(x = 'Hours',y = 'Scores', style= 'o')\n",
        "plt.title('Hours vs Percentage')\n",
        "plt.xlabel('Hours Studied')\n",
        "plt.ylabel('Percentage Score')\n",
        "plt.show()"
      ],
      "execution_count": 3,
      "outputs": [
        {
          "output_type": "display_data",
          "data": {
            "image/png": "[encoded data removed]",
            "text/plain": [
              "<Figure size 432x288 with 1 Axes>"
            ]
          },
          "metadata": {
            "tags": [],
            "needs_background": "light"
          }
        }
      ]
    },
    {
      "cell_type": "markdown",
      "metadata": {
        "id": "2vHJUUlXPF9r"
      },
      "source": [
        "#### Preparing the data\n",
        "- Shuffle the data to select data from all parts of the dataset.\n",
        "- Then convert the Dataset from `pandas.DataFrame` to `pytorch.tensors`.\n",
        "- Convert all the data into `float32`.\n",
        "- Also split the data into inputs and targets."
      ]
    },
    {
      "cell_type": "code",
      "metadata": {
        "id": "yL1_KY2Eb_Eh"
      },
      "source": [
        "stud_data = stud_data.sample(frac=1).reset_index(drop=True)\n",
        "X = stud_data.iloc[:,:-1]\n",
        "Y = stud_data.iloc[:,1:]\n",
        "inputs = torch.from_numpy(X.to_numpy(dtype='float32'))\n",
        "targets = torch.from_numpy(Y.to_numpy(dtype='float32'))"
      ],
      "execution_count": 4,
      "outputs": []
    },
    {
      "cell_type": "markdown",
      "metadata": {
        "id": "165wfJKRQbAz"
      },
      "source": [
        "- Split the data into train set and test set.\n",
        "- To check if out model is over fitting."
      ]
    },
    {
      "cell_type": "code",
      "metadata": {
        "id": "sYbbPc7qcYZt"
      },
      "source": [
        "x_train = inputs[:20]\n",
        "y_train = targets[:20]\n",
        "x_test = inputs[20:]\n",
        "y_test = targets[20:]"
      ],
      "execution_count": 5,
      "outputs": []
    },
    {
      "cell_type": "markdown",
      "metadata": {
        "id": "yuZwNYPpQ9xr"
      },
      "source": [
        "#### Declare the Training Model\n",
        "- Declare input and output sizes of our model"
      ]
    },
    {
      "cell_type": "code",
      "metadata": {
        "id": "kL108WT7gRyh"
      },
      "source": [
        "input_size = 1\n",
        "output_size = 1"
      ],
      "execution_count": 6,
      "outputs": []
    },
    {
      "cell_type": "markdown",
      "metadata": {
        "id": "oCb8Z937RPB5"
      },
      "source": [
        "- We will use `torch.nn.Linear` as our model "
      ]
    },
    {
      "cell_type": "code",
      "metadata": {
        "id": "CMbkQ9Q4gxzI"
      },
      "source": [
        "model = nn.Linear(input_size,output_size)"
      ],
      "execution_count": 7,
      "outputs": []
    },
    {
      "cell_type": "markdown",
      "metadata": {
        "id": "qRdXIo6RRlm0"
      },
      "source": [
        "- Pytorch will assign weights and bias randomly "
      ]
    },
    {
      "cell_type": "code",
      "metadata": {
        "colab": {
          "base_uri": "https://localhost:8080/"
        },
        "id": "GzihfJ_GjOOI",
        "outputId": "68d02fc5-1b9c-4283-dd45-2ebb8485996b"
      },
      "source": [
        "list(model.parameters())"
      ],
      "execution_count": 17,
      "outputs": [
        {
          "output_type": "execute_result",
          "data": {
            "text/plain": [
              "[Parameter containing:\n",
              " tensor([[10.1273]], requires_grad=True), Parameter containing:\n",
              " tensor([0.8786], requires_grad=True)]"
            ]
          },
          "metadata": {
            "tags": []
          },
          "execution_count": 17
        }
      ]
    },
    {
      "cell_type": "markdown",
      "metadata": {
        "id": "jo55S1eQSBHz"
      },
      "source": [
        "- We will use `Mean Squared Error` as loss function\n",
        "- We also use `Stochastic Gradient Descent` with learning rate of `1e-2` as our optimizer."
      ]
    },
    {
      "cell_type": "code",
      "metadata": {
        "id": "Hbf4K4zFjSSW"
      },
      "source": [
        "loss_fun = torch.nn.MSELoss()\n",
        "optimizer = torch.optim.SGD(model.parameters(),lr = 1e-2)"
      ],
      "execution_count": 9,
      "outputs": []
    },
    {
      "cell_type": "markdown",
      "metadata": {
        "id": "3Q2Q3RQjTkNI"
      },
      "source": [
        "#### Training the Model and Calculate the Train loss"
      ]
    },
    {
      "cell_type": "code",
      "metadata": {
        "colab": {
          "base_uri": "https://localhost:8080/"
        },
        "id": "87JomRlBkMqS",
        "outputId": "3d207f94-5fdb-4996-fb2e-f16e5c48fd17"
      },
      "source": [
        "epochs = 500\n",
        "for epoch in range(epochs):\n",
        "\n",
        "  y_pred = model(x_train)\n",
        "  loss = loss_fun(y_pred,y_train)\n",
        "  if epoch % 100 == 99:\n",
        "    print (epoch, loss.item())\n",
        "  optimizer.zero_grad()\n",
        "  loss.backward()\n",
        "  optimizer.step()\n",
        "print('Total Loss after {} epochs is {:.3f}'.format(epochs,float(loss)))"
      ],
      "execution_count": 10,
      "outputs": [
        {
          "output_type": "stream",
          "text": [
            "99 30.114273071289062\n",
            "199 29.938064575195312\n",
            "299 29.85068130493164\n",
            "399 29.807348251342773\n",
            "499 29.78586196899414\n",
            "Total Loss after 500 epochs is 29.786\n"
          ],
          "name": "stdout"
        }
      ]
    },
    {
      "cell_type": "markdown",
      "metadata": {
        "id": "pHfcwYRFUibp"
      },
      "source": [
        "#### Calculate the Test loss"
      ]
    },
    {
      "cell_type": "code",
      "metadata": {
        "id": "I_A8OjWcrcnE",
        "colab": {
          "base_uri": "https://localhost:8080/"
        },
        "outputId": "4cf25a86-64a0-4365-b283-2a2b52388a01"
      },
      "source": [
        "y_pred = model(x_test)\n",
        "loss = loss_fun(y_pred,y_test)\n",
        "print(pd.DataFrame({'Actual': list(map(int,y_test)),'Predicted': list(map(int,y_pred))},index=[1,2,3,4,5]))\n",
        "print('loss : {:.3f}'.format(float(loss)))"
      ],
      "execution_count": 11,
      "outputs": [
        {
          "output_type": "stream",
          "text": [
            "   Actual  Predicted\n",
            "1      42         34\n",
            "2      81         84\n",
            "3      35         39\n",
            "4      88         94\n",
            "5      20         16\n",
            "loss : 29.173\n"
          ],
          "name": "stdout"
        }
      ]
    },
    {
      "cell_type": "code",
      "metadata": {
        "id": "b-23DFPPwxCJ",
        "colab": {
          "base_uri": "https://localhost:8080/",
          "height": 295
        },
        "outputId": "69b7cdcc-a0b3-4942-fbc5-72ceb7ece3b3"
      },
      "source": [
        "    stud_data.plot(x = 'Hours',y = 'Scores', style= 'o')\n",
        "    plt.title('Hours vs Percentage')\n",
        "    plt.xlabel('Hours Studied')\n",
        "    plt.ylabel('Percentage Score')\n",
        "    line = (model.weight.detach().numpy())*X + (model.bias.detach().numpy()) \n",
        "    plt.scatter(X, Y)\n",
        "    plt.plot(X, line);\n",
        "    plt.show()\n",
        "    plt.close()"
      ],
      "execution_count": 12,
      "outputs": [
        {
          "output_type": "display_data",
          "data": {
            "image/png": "[encoded data removed]",
            "text/plain": [
              "<Figure size 432x288 with 1 Axes>"
            ]
          },
          "metadata": {
            "tags": [],
            "needs_background": "light"
          }
        }
      ]
    },
    {
      "cell_type": "markdown",
      "metadata": {
        "id": "qsquwCpMUozt"
      },
      "source": [
        "#### Make Predictions"
      ]
    },
    {
      "cell_type": "markdown",
      "metadata": {
        "id": "ysMkWm2jDS9O"
      },
      "source": [
        "##### What will be predicted score if a student studies for 9.25 hrs/ day? "
      ]
    },
    {
      "cell_type": "code",
      "metadata": {
        "id": "TM4lj6BuDnt1"
      },
      "source": [
        "hours = 9.25"
      ],
      "execution_count": 13,
      "outputs": []
    },
    {
      "cell_type": "code",
      "metadata": {
        "id": "23PJxMoewEbE"
      },
      "source": [
        "score = model(torch.tensor([hours]))"
      ],
      "execution_count": 14,
      "outputs": []
    },
    {
      "cell_type": "code",
      "metadata": {
        "colab": {
          "base_uri": "https://localhost:8080/"
        },
        "id": "vglI__VzD0bp",
        "outputId": "28b61bbd-7f32-4f1c-a60a-19d29e6b52ef"
      },
      "source": [
        "print('Prediction for given input is {:.2f}'.format(float(score)))\n",
        "print ('The percentage a student can score by reading for {} hours is {}'.format(hours,int(score)))"
      ],
      "execution_count": 15,
      "outputs": [
        {
          "output_type": "stream",
          "text": [
            "Prediction for given input is 94.56\n",
            "The percentage a student can score by reading for 9.25 hours is 94\n"
          ],
          "name": "stdout"
        }
      ]
    },
    {
      "cell_type": "markdown",
      "metadata": {
        "id": "KeQ4D8iWG2hL"
      },
      "source": [
        "### The percentage a student can score by reading for **9.25** hours is **94**"
      ]
    }
  ]
}