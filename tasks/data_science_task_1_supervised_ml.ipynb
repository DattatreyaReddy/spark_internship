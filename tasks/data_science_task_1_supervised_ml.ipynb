{
  "cells": [
    {
      "cell_type": "markdown",
      "metadata": {
        "colab_type": "text",
        "id": "view-in-github"
      },
      "source": [
        "<a href=\"https://colab.research.google.com/github/DattatreyaReddy/spark_internship/blob/main/data_science_task_1.ipynb\" target=\"_parent\"><img src=\"https://colab.research.google.com/assets/colab-badge.svg\" alt=\"Open In Colab\"/></a>"
      ]
    },
    {
      "cell_type": "markdown",
      "metadata": {
        "id": "U-4FgJmxCKXr"
      },
      "source": [
        "# **The Sparks Foundation**\n",
        "## *Graduate Rotational Internship Program*\n",
        "\n",
        "---\n",
        "\n",
        "### *Data Science & Business Analytics Internship*\n",
        "\n",
        "---\n",
        "\n",
        "**Intern Name : Panta DattatreyaReddy**\n",
        "\n",
        "- [GitHub](https://github.com/DattatreyaReddy/)\n",
        "\n",
        "- [LinkedIn](https://www.linkedin.com/in/dattatreyareddy-panta-944028/)\n",
        "\n",
        "[GitHub Repository](https://github.com/DattatreyaReddy/spark_internship.git)\n"
      ]
    },
    {
      "cell_type": "markdown",
      "metadata": {
        "id": "0XBlZFffYXE6"
      },
      "source": [
        "### Prediction using Supervised ML (Level - Beginner)\n",
        "\n",
        "- Predict the percentage of an student based on the no. of study hours.\n",
        "- This is a simple linear regression task as it involves just 2 variables.\n",
        "- You can use R, Python, SAS Enterprise Miner or any other tool\n",
        "- Data can be found at http://bit.ly/w-data\n",
        "- What will be predicted score if a student studies for 9.25 hrs/ day?\n"
      ]
    },
    {
      "cell_type": "markdown",
      "metadata": {
        "id": "2NQsq8I2NUOh"
      },
      "source": [
        "### Solution"
      ]
    },
    {
      "cell_type": "markdown",
      "metadata": {
        "id": "UbkB3zW7Neyp"
      },
      "source": [
        "#### Import required modules"
      ]
    },
    {
      "cell_type": "code",
      "execution_count": 1,
      "metadata": {
        "id": "sIWH-3RDBaaI"
      },
      "outputs": [],
      "source": [
        "import torch\n",
        "import pandas as pd\n",
        "import matplotlib.pyplot as plt\n",
        "from torch.utils.data import TensorDataset, random_split\n",
        "import torch.nn as nn\n",
        "import torch.nn.functional as F\n",
        "%matplotlib inline"
      ]
    },
    {
      "cell_type": "markdown",
      "metadata": {
        "id": "hK010DUrNt5u"
      },
      "source": [
        "#### Download and Explore the Data\n",
        "- Download the `csv` data file from give url\n",
        "- Convert the `.csv` file into a `pandas.DataFrame`"
      ]
    },
    {
      "cell_type": "code",
      "execution_count": 2,
      "metadata": {
        "colab": {
          "base_uri": "https://localhost:8080/",
          "height": 229
        },
        "id": "vg5AVeuzCF4_",
        "outputId": "657796c5-8435-459e-c010-4dd1eaab33d7"
      },
      "outputs": [],
      "source": [
        "url = 'http://bit.ly/w-data'\n",
        "stud_data = pd.read_csv(url)\n",
        "print ('Data Imported successfully')\n",
        "print('Size of the Dataset' , stud_data.shape)\n",
        "stud_data.head()"
      ]
    },
    {
      "cell_type": "markdown",
      "metadata": {
        "id": "3nLJlp1POTUH"
      },
      "source": [
        "- Plot a graph to understand the data better."
      ]
    },
    {
      "cell_type": "code",
      "execution_count": 3,
      "metadata": {
        "colab": {
          "base_uri": "https://localhost:8080/",
          "height": 295
        },
        "id": "kXRCk99lZ-6J",
        "outputId": "e24a46fe-7e95-4297-a94f-78fc583cbd49"
      },
      "outputs": [],
      "source": [
        "stud_data.plot(x = 'Hours',y = 'Scores', style= 'o')\n",
        "plt.title('Hours vs Percentage')\n",
        "plt.xlabel('Hours Studied')\n",
        "plt.ylabel('Percentage Score')\n",
        "plt.show()"
      ]
    },
    {
      "cell_type": "markdown",
      "metadata": {
        "id": "2vHJUUlXPF9r"
      },
      "source": [
        "#### Preparing the data\n",
        "- Shuffle the data to select data from all parts of the dataset.\n",
        "- Then convert the Dataset from `pandas.DataFrame` to `pytorch.tensors`.\n",
        "- Convert all the data into `float32`.\n",
        "- Also split the data into inputs and targets."
      ]
    },
    {
      "cell_type": "code",
      "execution_count": 4,
      "metadata": {
        "id": "yL1_KY2Eb_Eh"
      },
      "outputs": [],
      "source": [
        "stud_data = stud_data.sample(frac=1).reset_index(drop=True)\n",
        "X = stud_data.iloc[:,:-1]\n",
        "Y = stud_data.iloc[:,1:]\n",
        "inputs = torch.from_numpy(X.to_numpy(dtype='float32'))\n",
        "targets = torch.from_numpy(Y.to_numpy(dtype='float32'))"
      ]
    },
    {
      "cell_type": "markdown",
      "metadata": {
        "id": "165wfJKRQbAz"
      },
      "source": [
        "- Split the data into train set and test set.\n",
        "- To check if out model is over fitting."
      ]
    },
    {
      "cell_type": "code",
      "execution_count": 5,
      "metadata": {
        "id": "sYbbPc7qcYZt"
      },
      "outputs": [],
      "source": [
        "x_train = inputs[:20]\n",
        "y_train = targets[:20]\n",
        "x_test = inputs[20:]\n",
        "y_test = targets[20:]"
      ]
    },
    {
      "cell_type": "markdown",
      "metadata": {
        "id": "yuZwNYPpQ9xr"
      },
      "source": [
        "#### Declare the Training Model\n",
        "- Declare input and output sizes of our model"
      ]
    },
    {
      "cell_type": "code",
      "execution_count": 6,
      "metadata": {
        "id": "kL108WT7gRyh"
      },
      "outputs": [],
      "source": [
        "input_size = 1\n",
        "output_size = 1"
      ]
    },
    {
      "cell_type": "markdown",
      "metadata": {
        "id": "oCb8Z937RPB5"
      },
      "source": [
        "- We will use `torch.nn.Linear` as our model "
      ]
    },
    {
      "cell_type": "code",
      "execution_count": 7,
      "metadata": {
        "id": "CMbkQ9Q4gxzI"
      },
      "outputs": [],
      "source": [
        "model = nn.Linear(input_size,output_size)"
      ]
    },
    {
      "cell_type": "markdown",
      "metadata": {
        "id": "qRdXIo6RRlm0"
      },
      "source": [
        "- Pytorch will assign weights and bias randomly "
      ]
    },
    {
      "cell_type": "code",
      "execution_count": 17,
      "metadata": {
        "colab": {
          "base_uri": "https://localhost:8080/"
        },
        "id": "GzihfJ_GjOOI",
        "outputId": "68d02fc5-1b9c-4283-dd45-2ebb8485996b"
      },
      "outputs": [],
      "source": [
        "list(model.parameters())"
      ]
    },
    {
      "cell_type": "markdown",
      "metadata": {
        "id": "jo55S1eQSBHz"
      },
      "source": [
        "- We will use `Mean Squared Error` as loss function\n",
        "- We also use `Stochastic Gradient Descent` with learning rate of `1e-2` as our optimizer."
      ]
    },
    {
      "cell_type": "code",
      "execution_count": 9,
      "metadata": {
        "id": "Hbf4K4zFjSSW"
      },
      "outputs": [],
      "source": [
        "loss_fun = torch.nn.MSELoss()\n",
        "optimizer = torch.optim.SGD(model.parameters(),lr = 1e-2)"
      ]
    },
    {
      "cell_type": "markdown",
      "metadata": {
        "id": "3Q2Q3RQjTkNI"
      },
      "source": [
        "#### Training the Model and Calculate the Train loss"
      ]
    },
    {
      "cell_type": "code",
      "execution_count": 10,
      "metadata": {
        "colab": {
          "base_uri": "https://localhost:8080/"
        },
        "id": "87JomRlBkMqS",
        "outputId": "3d207f94-5fdb-4996-fb2e-f16e5c48fd17"
      },
      "outputs": [],
      "source": [
        "epochs = 500\n",
        "for epoch in range(epochs):\n",
        "\n",
        "  y_pred = model(x_train)\n",
        "  loss = loss_fun(y_pred,y_train)\n",
        "  if epoch % 100 == 99:\n",
        "    print (epoch, loss.item())\n",
        "  optimizer.zero_grad()\n",
        "  loss.backward()\n",
        "  optimizer.step()\n",
        "print('Total Loss after {} epochs is {:.3f}'.format(epochs,float(loss)))"
      ]
    },
    {
      "cell_type": "markdown",
      "metadata": {
        "id": "pHfcwYRFUibp"
      },
      "source": [
        "#### Calculate the Test loss"
      ]
    },
    {
      "cell_type": "code",
      "execution_count": 11,
      "metadata": {
        "colab": {
          "base_uri": "https://localhost:8080/"
        },
        "id": "I_A8OjWcrcnE",
        "outputId": "4cf25a86-64a0-4365-b283-2a2b52388a01"
      },
      "outputs": [],
      "source": [
        "y_pred = model(x_test)\n",
        "loss = loss_fun(y_pred,y_test)\n",
        "print(pd.DataFrame({'Actual': list(map(int,y_test)),'Predicted': list(map(int,y_pred))},index=[1,2,3,4,5]))\n",
        "print('loss : {:.3f}'.format(float(loss)))"
      ]
    },
    {
      "cell_type": "code",
      "execution_count": 12,
      "metadata": {
        "colab": {
          "base_uri": "https://localhost:8080/",
          "height": 295
        },
        "id": "b-23DFPPwxCJ",
        "outputId": "69b7cdcc-a0b3-4942-fbc5-72ceb7ece3b3"
      },
      "outputs": [],
      "source": [
        "    stud_data.plot(x = 'Hours',y = 'Scores', style= 'o')\n",
        "    plt.title('Hours vs Percentage')\n",
        "    plt.xlabel('Hours Studied')\n",
        "    plt.ylabel('Percentage Score')\n",
        "    line = (model.weight.detach().numpy())*X + (model.bias.detach().numpy()) \n",
        "    plt.scatter(X, Y)\n",
        "    plt.plot(X, line);\n",
        "    plt.show()\n",
        "    plt.close()"
      ]
    },
    {
      "cell_type": "markdown",
      "metadata": {
        "id": "qsquwCpMUozt"
      },
      "source": [
        "#### Make Predictions"
      ]
    },
    {
      "cell_type": "markdown",
      "metadata": {
        "id": "ysMkWm2jDS9O"
      },
      "source": [
        "##### What will be predicted score if a student studies for 9.25 hrs/ day? "
      ]
    },
    {
      "cell_type": "code",
      "execution_count": 13,
      "metadata": {
        "id": "TM4lj6BuDnt1"
      },
      "outputs": [],
      "source": [
        "hours = 9.25"
      ]
    },
    {
      "cell_type": "code",
      "execution_count": 14,
      "metadata": {
        "id": "23PJxMoewEbE"
      },
      "outputs": [],
      "source": [
        "score = model(torch.tensor([hours]))"
      ]
    },
    {
      "cell_type": "code",
      "execution_count": 15,
      "metadata": {
        "colab": {
          "base_uri": "https://localhost:8080/"
        },
        "id": "vglI__VzD0bp",
        "outputId": "28b61bbd-7f32-4f1c-a60a-19d29e6b52ef"
      },
      "outputs": [],
      "source": [
        "print('Prediction for given input is {:.2f}'.format(float(score)))\n",
        "print ('The percentage a student can score by reading for {} hours is {}'.format(hours,int(score)))"
      ]
    },
    {
      "cell_type": "markdown",
      "metadata": {
        "id": "KeQ4D8iWG2hL"
      },
      "source": [
        "### The percentage a student can score by reading for **9.25** hours is **94**"
      ]
    }
  ],
  "metadata": {
    "colab": {
      "authorship_tag": "ABX9TyPFNb9yspAZ0sW1bTM3w64X",
      "collapsed_sections": [],
      "include_colab_link": true,
      "name": "spark_intern.ipynb",
      "provenance": []
    },
    "kernelspec": {
      "display_name": "Python 3",
      "name": "python3"
    }
  },
  "nbformat": 4,
  "nbformat_minor": 0
}